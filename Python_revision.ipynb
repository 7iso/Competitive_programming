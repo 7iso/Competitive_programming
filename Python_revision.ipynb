{
 "cells": [
  {
   "cell_type": "code",
   "execution_count": 1,
   "id": "919056a8",
   "metadata": {},
   "outputs": [],
   "source": [
    "s=\"ALLA\"\n",
    "n=56\n",
    "l=[3,4,56,77,\"ALLA\",56.22, 6+7j, [2,4,5,6]]\n",
    "t=(4,3,5,4,23)\n",
    "d={\"y\":\"mostaphga\", 6:\"alla\", n:{\"name\": \"ALLA\",\"mail\":\"alaamustapha55@gmail.com\"}}\n"
   ]
  },
  {
   "cell_type": "code",
   "execution_count": 2,
   "id": "c05b16fd",
   "metadata": {},
   "outputs": [
    {
     "data": {
      "text/plain": [
       "'A'"
      ]
     },
     "execution_count": 2,
     "metadata": {},
     "output_type": "execute_result"
    }
   ],
   "source": [
    "s[0]"
   ]
  },
  {
   "cell_type": "code",
   "execution_count": 3,
   "id": "1d6d7817",
   "metadata": {},
   "outputs": [
    {
     "data": {
      "text/plain": [
       "'A'"
      ]
     },
     "execution_count": 3,
     "metadata": {},
     "output_type": "execute_result"
    }
   ],
   "source": [
    "s[-1]"
   ]
  },
  {
   "cell_type": "code",
   "execution_count": null,
   "id": "92972c7c",
   "metadata": {},
   "outputs": [],
   "source": []
  }
 ],
 "metadata": {
  "kernelspec": {
   "display_name": "Python 3 (ipykernel)",
   "language": "python",
   "name": "python3"
  },
  "language_info": {
   "codemirror_mode": {
    "name": "ipython",
    "version": 3
   },
   "file_extension": ".py",
   "mimetype": "text/x-python",
   "name": "python",
   "nbconvert_exporter": "python",
   "pygments_lexer": "ipython3",
   "version": "3.11.4"
  }
 },
 "nbformat": 4,
 "nbformat_minor": 5
}
